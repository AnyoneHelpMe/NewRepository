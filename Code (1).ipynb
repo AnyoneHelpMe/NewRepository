{
 "cells": [
  {
   "cell_type": "code",
   "execution_count": 1,
   "metadata": {},
   "outputs": [
    {
     "name": "stdout",
     "output_type": "stream",
     "text": [
      "importing Jupyter notebook from Loader.ipynb\n"
     ]
    }
   ],
   "source": [
    "import import_ipynb\n",
    "import pandas as pd\n",
    "import matplotlib.pyplot as plt\n",
    "import numpy as np\n",
    "import pathlib\n",
    "import Loader\n",
    "%matplotlib inline"
   ]
  },
  {
   "cell_type": "code",
   "execution_count": 55,
   "metadata": {},
   "outputs": [
    {
     "data": {
      "image/png": "[encoded data removed]",
      "text/plain": [
       "<Figure size 432x288 with 1 Axes>"
      ]
     },
     "metadata": {
      "needs_background": "light"
     },
     "output_type": "display_data"
    }
   ],
   "source": [
    "songs = pd.read_csv('new.csv',delimiter=',') \n",
    "helper_art=[]\n",
    "for i in songs['artist']:\n",
    "    helper_art.append(len(i))\n",
    "len_artist = np.asarray(helper_art)\n",
    "plt.hist(len_artist, bins=range(0,40), color='purple')\n",
    "plt.show()"
   ]
  },
  {
   "cell_type": "code",
   "execution_count": 56,
   "metadata": {},
   "outputs": [
    {
     "data": {
      "image/png": "[encoded data removed]",
      "text/plain": [
       "<Figure size 432x288 with 1 Axes>"
      ]
     },
     "metadata": {
      "needs_background": "light"
     },
     "output_type": "display_data"
    }
   ],
   "source": [
    "helper_tit = []\n",
    "for i in songs['title']:\n",
    "    helper_tit.append(len(i))\n",
    "len_title = np.asarray(helper_tit)\n",
    "plt.hist(len_title, bins=range(0,60), color='red')\n",
    "plt.show()"
   ]
  },
  {
   "cell_type": "code",
   "execution_count": 158,
   "metadata": {},
   "outputs": [
    {
     "data": {
      "image/png": "[encoded data removed]",
      "text/plain": [
       "<Figure size 432x288 with 1 Axes>"
      ]
     },
     "metadata": {
      "needs_background": "light"
     },
     "output_type": "display_data"
    },
    {
     "name": "stdout",
     "output_type": "stream",
     "text": [
      "Wall time: 4min 12s\n"
     ]
    }
   ],
   "source": [
    "%%time\n",
    "counter_i,r,counter_int=songs.index,'',0\n",
    "counter=np.zeros(4064)\n",
    "counter_list=list(counter_i)\n",
    "for i in songs['track_id']:\n",
    "    for j in songs['similars']:\n",
    "        for k in range(1,22):\n",
    "            if j[k]!='['and j[k]!=']'and j[k]!=','and j[k]!=\"'\":\n",
    "                r+=j[k]\n",
    "                if len(r)==18:\n",
    "                    if i==r:\n",
    "                        counter[counter_int]= counter[counter_int]+1\n",
    "                    r=''\n",
    "    counter_int+=1\n",
    "indexis = np.asarray(counter_list)\n",
    "plt.bar(indexis,counter)\n",
    "plt.xticks(indexis)\n",
    "plt.axis([0, 300, 0, 3])\n",
    "plt.show()"
   ]
  },
  {
   "cell_type": "code",
   "execution_count": null,
   "metadata": {},
   "outputs": [],
   "source": []
  }
 ],
 "metadata": {
  "kernelspec": {
   "display_name": "Python 3.8.5 32-bit",
   "language": "python",
   "name": "python38532bitba6d4367d97a4c91b6ca195a00a2e0b3"
  },
  "language_info": {
   "codemirror_mode": {
    "name": "ipython",
    "version": 3
   },
   "file_extension": ".py",
   "mimetype": "text/x-python",
   "name": "python",
   "nbconvert_exporter": "python",
   "pygments_lexer": "ipython3",
   "version": "3.8.5"
  }
 },
 "nbformat": 4,
 "nbformat_minor": 4
}
