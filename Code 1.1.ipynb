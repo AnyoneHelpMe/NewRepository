{
 "cells": [
  {
   "cell_type": "code",
   "execution_count": 5,
   "metadata": {},
   "outputs": [],
   "source": [
    "import os\n",
    "import pandas as pd\n",
    "import matplotlib.pyplot as plt\n",
    "import json\n",
    "import csv\n",
    "import numpy as np\n",
    "import pathlib"
   ]
  },
  {
   "cell_type": "code",
   "execution_count": 13,
   "metadata": {},
   "outputs": [
    {
     "data": {
      "image/png": "[encoded data removed]",
      "text/plain": [
       "<Figure size 432x288 with 1 Axes>"
      ]
     },
     "metadata": {
      "needs_background": "light"
     },
     "output_type": "display_data"
    }
   ],
   "source": [
    "class Songs(object):\n",
    "    tab = []\n",
    "    def __init__(self, track_id,title,artist,similars):\n",
    "        self.track_id = track_id\n",
    "        self.title = title\n",
    "        self.artist = artist\n",
    "        self.similars = similars\n",
    "        Songs.tab.append(self)\n",
    "    def __str__(self):\n",
    "        {},{},{},{}.format (self.track_id,self.title,self.artist,self.similars)\n",
    "folder=[]\n",
    "for files in os.walk(\"C:/Users/ASUS/Desktop/Programmes/lastfm_subset\"):  \n",
    "        folder.append(files)\n",
    "for address, dirs, files in folder:\n",
    "    for file in files:\n",
    "        a = address+'/'+file\n",
    "        my_file = open(a,'r')\n",
    "        data_me = json.load(my_file)\n",
    "        classter = Songs(data_me.setdefault('track_id'), data_me.setdefault('title'), data_me.setdefault('artist'), data_me.setdefault('similars'))\n",
    "songs = Songs.tab\n",
    "for song in songs:\n",
    "    if len(song.similars) < 70:\n",
    "        song.similars=[]\n",
    "    else:\n",
    "        song.similars=song.similars[:70]\n",
    "songs=list(filter(lambda song: song.similars!=[],songs))\n",
    "plt.hist([len(song.similars) for song in songs],bins=5)\n",
    "plt.show()      "
   ]
  },
  {
   "cell_type": "code",
   "execution_count": null,
   "metadata": {},
   "outputs": [],
   "source": [
    "np.savetxt(\"new.csv\", tab, delimiter=\";\")"
   ]
  }
 ],
 "metadata": {
  "kernelspec": {
   "display_name": "Python 3",
   "language": "python",
   "name": "python3"
  },
  "language_info": {
   "codemirror_mode": {
    "name": "ipython",
    "version": 3
   },
   "file_extension": ".py",
   "mimetype": "text/x-python",
   "name": "python",
   "nbconvert_exporter": "python",
   "pygments_lexer": "ipython3",
   "version": "3.8.5"
  }
 },
 "nbformat": 4,
 "nbformat_minor": 4
}
